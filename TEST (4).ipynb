{
 "cells": [
  {
   "cell_type": "markdown",
   "id": "fe583879-ea60-4cb9-8dac-330291c8b273",
   "metadata": {},
   "source": [
    "#My Jupyter Notebook on IBM Watson Studio\n"
   ]
  },
  {
   "cell_type": "markdown",
   "id": "1f00e116-9316-4ccb-907f-ef32c3a4d5d5",
   "metadata": {},
   "source": [
    "##NAME : AKHIL HAROLD PETER\n",
    "DESIRED OCCUPATION : ML ENGINEER/DATA SCIENTIST"
   ]
  },
  {
   "cell_type": "markdown",
   "id": "29db85b1-116c-409b-87fa-5d506ac6082e",
   "metadata": {},
   "source": [
    "*I am interested in data science because i would like to explore its quirks in healthcare and IT industry."
   ]
  },
  {
   "cell_type": "markdown",
   "id": "efd26a47-eb75-4711-8b35-870f29e26519",
   "metadata": {},
   "source": [
    "*The code snippet below will display hello world*"
   ]
  },
  {
   "cell_type": "code",
   "execution_count": null,
   "id": "c6658287-6f12-47e0-8891-d67da998b57d",
   "metadata": {},
   "outputs": [],
   "source": [
    "print(\"Hello World!\")"
   ]
  },
  {
   "cell_type": "markdown",
   "id": "c7f3c65d-e944-4d0b-a985-c3510156ab5d",
   "metadata": {},
   "source": []
  }
 ],
 "metadata": {
  "kernelspec": {
   "display_name": "Python",
   "language": "python",
   "name": "conda-env-python-py"
  },
  "language_info": {
   "codemirror_mode": {
    "name": "ipython",
    "version": 3
   },
   "file_extension": ".py",
   "mimetype": "text/x-python",
   "name": "python",
   "nbconvert_exporter": "python",
   "pygments_lexer": "ipython3",
   "version": "3.7.10"
  }
 },
 "nbformat": 4,
 "nbformat_minor": 5
}
